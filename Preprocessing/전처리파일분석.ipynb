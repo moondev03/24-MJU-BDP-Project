{
 "cells": [
  {
   "cell_type": "code",
   "execution_count": 37,
   "id": "747c5e30-3094-4269-8213-1b3b9d337658",
   "metadata": {},
   "outputs": [
    {
     "name": "stdout",
     "output_type": "stream",
     "text": [
      "The history saving thread hit an unexpected error (OperationalError('attempt to write a readonly database')).History will not be written to the database.\n"
     ]
    }
   ],
   "source": [
    "import pandas as pd\n",
    "data = pd.read_csv('restaurant_with_universities.csv')"
   ]
  },
  {
   "cell_type": "code",
   "execution_count": 38,
   "id": "eccf1f28-b15b-4d89-b360-550ad3d5a448",
   "metadata": {},
   "outputs": [
    {
     "name": "stdout",
     "output_type": "stream",
     "text": [
      "<class 'pandas.core.frame.DataFrame'>\n",
      "RangeIndex: 17898 entries, 0 to 17897\n",
      "Data columns (total 10 columns):\n",
      " #   Column     Non-Null Count  Dtype  \n",
      "---  ------     --------------  -----  \n",
      " 0   상호명        17898 non-null  object \n",
      " 1   상권업종대분류코드  17898 non-null  object \n",
      " 2   상권업종대분류명   17898 non-null  object \n",
      " 3   상권업종중분류코드  17898 non-null  object \n",
      " 4   상권업종중분류명   17898 non-null  object \n",
      " 5   상권업종소분류코드  17898 non-null  object \n",
      " 6   상권업종소분류명   17898 non-null  object \n",
      " 7   경도         17898 non-null  float64\n",
      " 8   위도         17898 non-null  float64\n",
      " 9   대학교        17898 non-null  object \n",
      "dtypes: float64(2), object(8)\n",
      "memory usage: 1.4+ MB\n"
     ]
    }
   ],
   "source": [
    "data.info()"
   ]
  },
  {
   "cell_type": "code",
   "execution_count": 39,
   "id": "18f99176-b67d-49a1-b9b5-eb3c62fd40c0",
   "metadata": {},
   "outputs": [
    {
     "data": {
      "text/html": [
       "<div>\n",
       "<style scoped>\n",
       "    .dataframe tbody tr th:only-of-type {\n",
       "        vertical-align: middle;\n",
       "    }\n",
       "\n",
       "    .dataframe tbody tr th {\n",
       "        vertical-align: top;\n",
       "    }\n",
       "\n",
       "    .dataframe thead th {\n",
       "        text-align: right;\n",
       "    }\n",
       "</style>\n",
       "<table border=\"1\" class=\"dataframe\">\n",
       "  <thead>\n",
       "    <tr style=\"text-align: right;\">\n",
       "      <th></th>\n",
       "      <th>상호명</th>\n",
       "      <th>상권업종대분류코드</th>\n",
       "      <th>상권업종대분류명</th>\n",
       "      <th>상권업종중분류코드</th>\n",
       "      <th>상권업종중분류명</th>\n",
       "      <th>상권업종소분류코드</th>\n",
       "      <th>상권업종소분류명</th>\n",
       "      <th>경도</th>\n",
       "      <th>위도</th>\n",
       "      <th>대학교</th>\n",
       "    </tr>\n",
       "  </thead>\n",
       "  <tbody>\n",
       "    <tr>\n",
       "      <th>0</th>\n",
       "      <td>매머드커피외대</td>\n",
       "      <td>I2</td>\n",
       "      <td>음식</td>\n",
       "      <td>I212</td>\n",
       "      <td>비알코올</td>\n",
       "      <td>I21201</td>\n",
       "      <td>카페</td>\n",
       "      <td>127.056962</td>\n",
       "      <td>37.598493</td>\n",
       "      <td>경희대학교, 한국외국어대학교</td>\n",
       "    </tr>\n",
       "    <tr>\n",
       "      <th>1</th>\n",
       "      <td>썬더치킨</td>\n",
       "      <td>I2</td>\n",
       "      <td>음식</td>\n",
       "      <td>I210</td>\n",
       "      <td>기타 간이</td>\n",
       "      <td>I21006</td>\n",
       "      <td>치킨</td>\n",
       "      <td>127.073598</td>\n",
       "      <td>37.553662</td>\n",
       "      <td>세종대학교</td>\n",
       "    </tr>\n",
       "    <tr>\n",
       "      <th>2</th>\n",
       "      <td>멜팅그릴</td>\n",
       "      <td>I2</td>\n",
       "      <td>음식</td>\n",
       "      <td>I210</td>\n",
       "      <td>기타 간이</td>\n",
       "      <td>I21004</td>\n",
       "      <td>버거</td>\n",
       "      <td>126.955913</td>\n",
       "      <td>37.600976</td>\n",
       "      <td>상명대학교</td>\n",
       "    </tr>\n",
       "    <tr>\n",
       "      <th>3</th>\n",
       "      <td>제이앤제이슨R</td>\n",
       "      <td>I2</td>\n",
       "      <td>음식</td>\n",
       "      <td>I211</td>\n",
       "      <td>주점</td>\n",
       "      <td>I21104</td>\n",
       "      <td>요리 주점</td>\n",
       "      <td>126.924515</td>\n",
       "      <td>37.562797</td>\n",
       "      <td>연세대학교</td>\n",
       "    </tr>\n",
       "    <tr>\n",
       "      <th>4</th>\n",
       "      <td>미스홍대게스트하우스2</td>\n",
       "      <td>I2</td>\n",
       "      <td>음식</td>\n",
       "      <td>I212</td>\n",
       "      <td>비알코올</td>\n",
       "      <td>I21201</td>\n",
       "      <td>카페</td>\n",
       "      <td>126.923175</td>\n",
       "      <td>37.552909</td>\n",
       "      <td>홍익대학교</td>\n",
       "    </tr>\n",
       "  </tbody>\n",
       "</table>\n",
       "</div>"
      ],
      "text/plain": [
       "           상호명 상권업종대분류코드 상권업종대분류명 상권업종중분류코드 상권업종중분류명 상권업종소분류코드 상권업종소분류명  \\\n",
       "0      매머드커피외대        I2       음식      I212    비알코올     I21201       카페   \n",
       "1         썬더치킨        I2       음식      I210    기타 간이    I21006       치킨   \n",
       "2         멜팅그릴        I2       음식      I210    기타 간이    I21004       버거   \n",
       "3      제이앤제이슨R        I2       음식      I211       주점    I21104    요리 주점   \n",
       "4  미스홍대게스트하우스2        I2       음식      I212    비알코올     I21201       카페   \n",
       "\n",
       "           경도         위도              대학교  \n",
       "0  127.056962  37.598493  경희대학교, 한국외국어대학교  \n",
       "1  127.073598  37.553662            세종대학교  \n",
       "2  126.955913  37.600976            상명대학교  \n",
       "3  126.924515  37.562797            연세대학교  \n",
       "4  126.923175  37.552909            홍익대학교  "
      ]
     },
     "execution_count": 39,
     "metadata": {},
     "output_type": "execute_result"
    }
   ],
   "source": [
    "data.head()"
   ]
  },
  {
   "cell_type": "code",
   "execution_count": 40,
   "id": "f627d5f1-63d4-40b8-a5f9-af3451816428",
   "metadata": {},
   "outputs": [
    {
     "name": "stdout",
     "output_type": "stream",
     "text": [
      "상권업종대분류코드 column이 unique한가? False\n",
      "1\n"
     ]
    }
   ],
   "source": [
    "is_unique = data['상권업종대분류코드'].nunique() == len(data['상권업종대분류코드'])\n",
    "print(f\"상권업종대분류코드 column이 unique한가? {is_unique}\")\n",
    "print(data['상권업종대분류코드'].nunique())"
   ]
  },
  {
   "cell_type": "code",
   "execution_count": 41,
   "id": "8487f197-ee34-45bf-b80b-c5891eddd521",
   "metadata": {},
   "outputs": [
    {
     "name": "stdout",
     "output_type": "stream",
     "text": [
      "상권업종대분류명 column이 unique한가? False\n",
      "1\n"
     ]
    }
   ],
   "source": [
    "is_unique = data['상권업종대분류명'].nunique() == len(data['상권업종대분류명'])\n",
    "print(f\"상권업종대분류명 column이 unique한가? {is_unique}\")\n",
    "print(data['상권업종대분류명'].nunique())"
   ]
  },
  {
   "cell_type": "code",
   "execution_count": 42,
   "id": "073b4663-c129-4294-944a-60d965fdfdf4",
   "metadata": {},
   "outputs": [
    {
     "name": "stdout",
     "output_type": "stream",
     "text": [
      "  상권업종대분류코드 상권업종대분류명    상호수\n",
      "0        I2       음식  17898\n"
     ]
    }
   ],
   "source": [
    "grouped = data.groupby(['상권업종대분류코드', '상권업종대분류명']).size().reset_index(name='상호수')\n",
    "print(grouped)"
   ]
  },
  {
   "cell_type": "markdown",
   "id": "be769ce2-a8a9-4127-bfdb-204698b500cc",
   "metadata": {},
   "source": [
    "### 상권업종대분류코드, 상권업종대분류명은 한 개의 값을 가짐"
   ]
  },
  {
   "cell_type": "code",
   "execution_count": null,
   "id": "694ff143-cff3-4776-9f1f-735c45bf6d29",
   "metadata": {},
   "outputs": [],
   "source": []
  },
  {
   "cell_type": "code",
   "execution_count": 43,
   "id": "e5e2ca04-ad7b-43e6-94ea-9d93e2a47741",
   "metadata": {},
   "outputs": [
    {
     "name": "stdout",
     "output_type": "stream",
     "text": [
      "상권업종중분류코드 column이 unique한가? False\n",
      "10\n"
     ]
    }
   ],
   "source": [
    "is_unique = data['상권업종중분류코드'].nunique() == len(data['상권업종중분류코드'])\n",
    "print(f\"상권업종중분류코드 column이 unique한가? {is_unique}\")\n",
    "print(data['상권업종중분류코드'].nunique())"
   ]
  },
  {
   "cell_type": "code",
   "execution_count": 44,
   "id": "7343bfa8-8652-4459-992e-0dcfc720ecaa",
   "metadata": {},
   "outputs": [
    {
     "name": "stdout",
     "output_type": "stream",
     "text": [
      "상권업종중분류명 column이 unique한가? False\n",
      "10\n"
     ]
    }
   ],
   "source": [
    "is_unique = data['상권업종중분류명'].nunique() == len(data['상권업종중분류명'])\n",
    "print(f\"상권업종중분류명 column이 unique한가? {is_unique}\")\n",
    "print(data['상권업종중분류명'].nunique())"
   ]
  },
  {
   "cell_type": "code",
   "execution_count": 45,
   "id": "973f711b-d5c5-4f83-9a0c-0e252a52b300",
   "metadata": {},
   "outputs": [
    {
     "name": "stdout",
     "output_type": "stream",
     "text": [
      "  상권업종중분류코드 상권업종중분류명   상호수\n",
      "0      I201       한식  5574\n",
      "1      I202       중식   721\n",
      "2      I203       일식   993\n",
      "3      I204      서양식  1030\n",
      "4      I205    동남아시아   225\n",
      "5      I206    기타 외국     1\n",
      "6      I207  구내식당·뷔페   130\n",
      "7      I210    기타 간이  3760\n",
      "8      I211       주점  2201\n",
      "9      I212    비알코올   3263\n"
     ]
    }
   ],
   "source": [
    "grouped = data.groupby(['상권업종중분류코드', '상권업종중분류명']).size().reset_index(name='상호수')\n",
    "print(grouped)"
   ]
  },
  {
   "cell_type": "markdown",
   "id": "186449f6-f7af-4ef2-8fec-85f8d584d687",
   "metadata": {},
   "source": [
    "### 상권업종중분류명, 상권업종중분류명은 10개의 쌍으로 이루어진 데이터로 이루어짐"
   ]
  },
  {
   "cell_type": "code",
   "execution_count": null,
   "id": "5770c01b-def1-4d00-929b-18b47edf25ab",
   "metadata": {},
   "outputs": [],
   "source": []
  },
  {
   "cell_type": "code",
   "execution_count": 20,
   "id": "3ac30a28-153f-43e4-84ed-a4db171d8fad",
   "metadata": {},
   "outputs": [
    {
     "data": {
      "text/html": [
       "<div>\n",
       "<style scoped>\n",
       "    .dataframe tbody tr th:only-of-type {\n",
       "        vertical-align: middle;\n",
       "    }\n",
       "\n",
       "    .dataframe tbody tr th {\n",
       "        vertical-align: top;\n",
       "    }\n",
       "\n",
       "    .dataframe thead th {\n",
       "        text-align: right;\n",
       "    }\n",
       "</style>\n",
       "<table border=\"1\" class=\"dataframe\">\n",
       "  <thead>\n",
       "    <tr style=\"text-align: right;\">\n",
       "      <th></th>\n",
       "      <th>상호명</th>\n",
       "      <th>상권업종대분류코드</th>\n",
       "      <th>상권업종대분류명</th>\n",
       "      <th>상권업종중분류코드</th>\n",
       "      <th>상권업종중분류명</th>\n",
       "      <th>상권업종소분류코드</th>\n",
       "      <th>상권업종소분류명</th>\n",
       "      <th>경도</th>\n",
       "      <th>위도</th>\n",
       "      <th>대학교</th>\n",
       "    </tr>\n",
       "  </thead>\n",
       "  <tbody>\n",
       "    <tr>\n",
       "      <th>13504</th>\n",
       "      <td>오한수우육면가</td>\n",
       "      <td>I2</td>\n",
       "      <td>음식</td>\n",
       "      <td>I206</td>\n",
       "      <td>기타 외국</td>\n",
       "      <td>I20601</td>\n",
       "      <td>분류 안된 외국식 음식점</td>\n",
       "      <td>126.950865</td>\n",
       "      <td>37.545112</td>\n",
       "      <td>한국폴리텍대학</td>\n",
       "    </tr>\n",
       "  </tbody>\n",
       "</table>\n",
       "</div>"
      ],
      "text/plain": [
       "           상호명 상권업종대분류코드 상권업종대분류명 상권업종중분류코드 상권업종중분류명 상권업종소분류코드       상권업종소분류명  \\\n",
       "13504  오한수우육면가        I2       음식      I206    기타 외국    I20601  분류 안된 외국식 음식점   \n",
       "\n",
       "               경도         위도      대학교  \n",
       "13504  126.950865  37.545112  한국폴리텍대학  "
      ]
     },
     "execution_count": 20,
     "metadata": {},
     "output_type": "execute_result"
    }
   ],
   "source": [
    "data[data['상권업종중분류코드'] == 'I206']"
   ]
  },
  {
   "cell_type": "code",
   "execution_count": null,
   "id": "76b9c31e-2497-4ae2-ae49-5f3f55f6f4fe",
   "metadata": {},
   "outputs": [],
   "source": [
    "상권업종소분류코드\t상권업종소분류명"
   ]
  },
  {
   "cell_type": "code",
   "execution_count": 21,
   "id": "d785c3bd-229a-4655-9bc3-36c253d16531",
   "metadata": {},
   "outputs": [
    {
     "name": "stdout",
     "output_type": "stream",
     "text": [
      "상권업종소분류코드 column이 unique한가? False\n",
      "43\n"
     ]
    }
   ],
   "source": [
    "is_unique = data['상권업종소분류코드'].nunique() == len(data['상권업종소분류코드'])\n",
    "print(f\"상권업종소분류코드 column이 unique한가? {is_unique}\")\n",
    "print(data['상권업종소분류코드'].nunique())"
   ]
  },
  {
   "cell_type": "code",
   "execution_count": 22,
   "id": "66db5bcc-f396-41aa-a87e-08bb3d9d7a5c",
   "metadata": {},
   "outputs": [
    {
     "name": "stdout",
     "output_type": "stream",
     "text": [
      "상권업종소분류명 column이 unique한가? False\n",
      "43\n"
     ]
    }
   ],
   "source": [
    "is_unique = data['상권업종소분류명'].nunique() == len(data['상권업종소분류명'])\n",
    "print(f\"상권업종소분류명 column이 unique한가? {is_unique}\")\n",
    "print(data['상권업종소분류명'].nunique())"
   ]
  },
  {
   "cell_type": "code",
   "execution_count": 23,
   "id": "f190817c-1df5-4bef-8984-13fec4e169db",
   "metadata": {
    "scrolled": true
   },
   "outputs": [
    {
     "name": "stdout",
     "output_type": "stream",
     "text": [
      "   상권업종소분류코드       상권업종소분류명   상호수\n",
      "0     I20101         백반/한정식  2867\n",
      "1     I20102        국/탕/찌개류   448\n",
      "2     I20103          족발/보쌈   127\n",
      "3     I20104          전/부침개    20\n",
      "4     I20105         국수/칼국수   310\n",
      "5     I20106          냉면/밀면    73\n",
      "6     I20107      돼지고기 구이/찜   929\n",
      "7     I20108       소고기 구이/찜    80\n",
      "8     I20109       곱창 전골/구이   179\n",
      "9     I20110    닭/오리고기 구이/찜   157\n",
      "10    I20111             횟집   192\n",
      "11    I20112       해산물 구이/찜   160\n",
      "12    I20113        복 요리 전문     6\n",
      "13    I20199      기타 한식 음식점    26\n",
      "14    I20201            중국집   575\n",
      "15    I20202         마라탕/훠궈   146\n",
      "16    I20301        일식 회/초밥   779\n",
      "17    I20302   일식 카레/돈가스/덮밥   101\n",
      "18    I20303        일식 면 요리    94\n",
      "19    I20399      기타 일식 음식점    19\n",
      "20    I20401            경양식   873\n",
      "21    I20402       파스타/스테이크    86\n",
      "22    I20403        패밀리레스토랑     4\n",
      "23    I20499     기타 서양식 음식점    67\n",
      "24    I20501        베트남식 전문   210\n",
      "25    I20599     기타 동남아식 전문    15\n",
      "26    I20601  분류 안된 외국식 음식점     1\n",
      "27    I20701           구내식당   119\n",
      "28    I20702             뷔페    11\n",
      "29    I21001           빵/도넛   717\n",
      "30    I21002           떡/한과   122\n",
      "31    I21003             피자   537\n",
      "32    I21004             버거   151\n",
      "33    I21005   토스트/샌드위치/샐러드   120\n",
      "34    I21006             치킨   698\n",
      "35    I21007       김밥/만두/분식  1111\n",
      "36    I21008       아이스크림/빙수    72\n",
      "37    I21099  그 외 기타 간이 음식점   232\n",
      "38    I21101       일반 유흥 주점   221\n",
      "39    I21102       무도 유흥 주점    12\n",
      "40    I21103         생맥주 전문   362\n",
      "41    I21104          요리 주점  1606\n",
      "42    I21201             카페  3263\n"
     ]
    }
   ],
   "source": [
    "grouped = data.groupby(['상권업종소분류코드', '상권업종소분류명']).size().reset_index(name='상호수')\n",
    "print(grouped)"
   ]
  },
  {
   "cell_type": "markdown",
   "id": "831df221-0aac-4bdd-b1c4-acb11eac9857",
   "metadata": {},
   "source": [
    "### 상권업종소분류코드, 상권업종소분류명은 43개의 쌍으로 이루어진 데이터로 이루어짐"
   ]
  },
  {
   "cell_type": "code",
   "execution_count": null,
   "id": "6482a8db-4ff2-4d6c-ae9e-57e43b5fcbea",
   "metadata": {},
   "outputs": [],
   "source": []
  },
  {
   "cell_type": "markdown",
   "id": "c88cc7b8-d35a-4c95-9c13-6947dc529443",
   "metadata": {},
   "source": [
    "#### hdfs에서 파일을 읽으면 대학교 column에 두 개의 값이 들어있는 경우 \"경희대학교, 한국외국어대학교\" 형식으로 들어있어 미리 split했음."
   ]
  },
  {
   "cell_type": "code",
   "execution_count": 46,
   "id": "c2e1429a-4019-426d-9ea2-ac6f4db48f45",
   "metadata": {},
   "outputs": [
    {
     "name": "stdout",
     "output_type": "stream",
     "text": [
      "           상호명 상권업종대분류코드 상권업종대분류명 상권업종중분류코드 상권업종중분류명 상권업종소분류코드  상권업종소분류명  \\\n",
      "0      매머드커피외대        I2       음식      I212    비알코올     I21201        카페   \n",
      "0      매머드커피외대        I2       음식      I212    비알코올     I21201        카페   \n",
      "1         썬더치킨        I2       음식      I210    기타 간이    I21006        치킨   \n",
      "2         멜팅그릴        I2       음식      I210    기타 간이    I21004        버거   \n",
      "3      제이앤제이슨R        I2       음식      I211       주점    I21104     요리 주점   \n",
      "...        ...       ...      ...       ...      ...       ...       ...   \n",
      "17894      나이브        I2       음식      I210    기타 간이    I21007  김밥/만두/분식   \n",
      "17895   육회바른연어        I2       음식      I201       한식    I20108  소고기 구이/찜   \n",
      "17896    제이엠기획        I2       음식      I201       한식    I20101    백반/한정식   \n",
      "17897     이문족발        I2       음식      I201       한식    I20103     족발/보쌈   \n",
      "17897     이문족발        I2       음식      I201       한식    I20103     족발/보쌈   \n",
      "\n",
      "               경도         위도        대학교  \n",
      "0      127.056962  37.598493      경희대학교  \n",
      "0      127.056962  37.598493   한국외국어대학교  \n",
      "1      127.073598  37.553662      세종대학교  \n",
      "2      126.955913  37.600976      상명대학교  \n",
      "3      126.924515  37.562797      연세대학교  \n",
      "...           ...        ...        ...  \n",
      "17894  127.076909  37.624646  서울과학기술대학교  \n",
      "17895  126.964204  37.475705      서울대학교  \n",
      "17896  126.913962  37.598876    서울기독대학교  \n",
      "17897  127.061632  37.595376      경희대학교  \n",
      "17897  127.061632  37.595376   한국외국어대학교  \n",
      "\n",
      "[20486 rows x 10 columns]\n",
      "20486\n"
     ]
    }
   ],
   "source": [
    "df = data.copy()\n",
    "\n",
    "data_expanded = df.assign(대학교=data['대학교'].str.split(',')).explode('대학교')\n",
    "\n",
    "data_expanded['대학교'] = data_expanded['대학교'].str.strip()\n",
    "\n",
    "print(data_expanded)\n",
    "print(len(data_expanded))"
   ]
  },
  {
   "cell_type": "markdown",
   "id": "0c034051-d16c-4ccc-83af-b19a35bdb5dd",
   "metadata": {},
   "source": [
    "### 한 개의 row에 여러 개의 대학교가 들어가있는 데이터를 split"
   ]
  },
  {
   "cell_type": "code",
   "execution_count": 47,
   "id": "6edfed78-debd-4fcc-88f1-002efe227f2e",
   "metadata": {},
   "outputs": [],
   "source": [
    "data_expanded.to_csv('trans_split_univ.csv', index=False, encoding='utf-8-sig')"
   ]
  },
  {
   "cell_type": "code",
   "execution_count": null,
   "id": "6ed8bb7d-7204-4858-93ef-00932b79fc6e",
   "metadata": {},
   "outputs": [],
   "source": []
  },
  {
   "cell_type": "code",
   "execution_count": null,
   "id": "87fd66fe-631a-4856-9139-6758fb74a93c",
   "metadata": {},
   "outputs": [],
   "source": []
  },
  {
   "cell_type": "code",
   "execution_count": null,
   "id": "aba9444d-95e3-4f39-a0cd-83c456dda2e3",
   "metadata": {},
   "outputs": [],
   "source": []
  },
  {
   "cell_type": "markdown",
   "id": "df1ecb26-0426-4687-9c70-ba239080c1cc",
   "metadata": {},
   "source": [
    "### 면적 데이터를 사용하기 위해 university_locations.csv 전처리"
   ]
  },
  {
   "cell_type": "code",
   "execution_count": 35,
   "id": "1d621c5c-8114-47c7-be50-d6e2f7ed8e33",
   "metadata": {},
   "outputs": [],
   "source": [
    "import pandas as pd\n",
    "df = pd.read_csv('university_locations.csv')"
   ]
  },
  {
   "cell_type": "code",
   "execution_count": 33,
   "id": "e2889575-c0f9-4a5f-8d31-aa02bcd354ee",
   "metadata": {
    "scrolled": true
   },
   "outputs": [
    {
     "data": {
      "text/html": [
       "<div>\n",
       "<style scoped>\n",
       "    .dataframe tbody tr th:only-of-type {\n",
       "        vertical-align: middle;\n",
       "    }\n",
       "\n",
       "    .dataframe tbody tr th {\n",
       "        vertical-align: top;\n",
       "    }\n",
       "\n",
       "    .dataframe thead th {\n",
       "        text-align: right;\n",
       "    }\n",
       "</style>\n",
       "<table border=\"1\" class=\"dataframe\">\n",
       "  <thead>\n",
       "    <tr style=\"text-align: right;\">\n",
       "      <th></th>\n",
       "      <th>대학명</th>\n",
       "      <th>면적</th>\n",
       "      <th>위도</th>\n",
       "      <th>경도</th>\n",
       "    </tr>\n",
       "  </thead>\n",
       "  <tbody>\n",
       "    <tr>\n",
       "      <th>0</th>\n",
       "      <td>서울대학교</td>\n",
       "      <td>4,317,000㎡</td>\n",
       "      <td>37.464827</td>\n",
       "      <td>126.957199</td>\n",
       "    </tr>\n",
       "    <tr>\n",
       "      <th>1</th>\n",
       "      <td>연세대학교</td>\n",
       "      <td>952,750㎡</td>\n",
       "      <td>37.566394</td>\n",
       "      <td>126.938707</td>\n",
       "    </tr>\n",
       "    <tr>\n",
       "      <th>2</th>\n",
       "      <td>고려대학교</td>\n",
       "      <td>946,177㎡</td>\n",
       "      <td>37.589388</td>\n",
       "      <td>127.032477</td>\n",
       "    </tr>\n",
       "    <tr>\n",
       "      <th>3</th>\n",
       "      <td>이화여자대학교</td>\n",
       "      <td>554,927㎡</td>\n",
       "      <td>37.561859</td>\n",
       "      <td>126.946834</td>\n",
       "    </tr>\n",
       "    <tr>\n",
       "      <th>4</th>\n",
       "      <td>서울과학기술대학교</td>\n",
       "      <td>504,922㎡</td>\n",
       "      <td>37.631668</td>\n",
       "      <td>127.077481</td>\n",
       "    </tr>\n",
       "    <tr>\n",
       "      <th>5</th>\n",
       "      <td>건국대학교</td>\n",
       "      <td>456,392㎡[62]</td>\n",
       "      <td>37.542327</td>\n",
       "      <td>127.075920</td>\n",
       "    </tr>\n",
       "    <tr>\n",
       "      <th>6</th>\n",
       "      <td>서울시립대학교</td>\n",
       "      <td>434,004㎡</td>\n",
       "      <td>37.583866</td>\n",
       "      <td>127.058777</td>\n",
       "    </tr>\n",
       "    <tr>\n",
       "      <th>7</th>\n",
       "      <td>한양대학교</td>\n",
       "      <td>401,729㎡</td>\n",
       "      <td>37.557176</td>\n",
       "      <td>127.045409</td>\n",
       "    </tr>\n",
       "    <tr>\n",
       "      <th>8</th>\n",
       "      <td>삼육대학교</td>\n",
       "      <td>319,537㎡</td>\n",
       "      <td>37.643582</td>\n",
       "      <td>127.106346</td>\n",
       "    </tr>\n",
       "    <tr>\n",
       "      <th>9</th>\n",
       "      <td>서강대학교</td>\n",
       "      <td>242,091㎡</td>\n",
       "      <td>37.550944</td>\n",
       "      <td>126.941002</td>\n",
       "    </tr>\n",
       "    <tr>\n",
       "      <th>10</th>\n",
       "      <td>서울여자대학교</td>\n",
       "      <td>225,020㎡</td>\n",
       "      <td>37.628113</td>\n",
       "      <td>127.090457</td>\n",
       "    </tr>\n",
       "    <tr>\n",
       "      <th>11</th>\n",
       "      <td>국민대학교</td>\n",
       "      <td>191,736㎡</td>\n",
       "      <td>37.610869</td>\n",
       "      <td>126.997289</td>\n",
       "    </tr>\n",
       "    <tr>\n",
       "      <th>12</th>\n",
       "      <td>덕성여자대학교</td>\n",
       "      <td>188,260㎡</td>\n",
       "      <td>37.651298</td>\n",
       "      <td>127.016573</td>\n",
       "    </tr>\n",
       "    <tr>\n",
       "      <th>13</th>\n",
       "      <td>중앙대학교</td>\n",
       "      <td>179,972㎡</td>\n",
       "      <td>37.504556</td>\n",
       "      <td>126.956938</td>\n",
       "    </tr>\n",
       "    <tr>\n",
       "      <th>14</th>\n",
       "      <td>상명대학교</td>\n",
       "      <td>174,763㎡</td>\n",
       "      <td>37.602638</td>\n",
       "      <td>126.955252</td>\n",
       "    </tr>\n",
       "    <tr>\n",
       "      <th>15</th>\n",
       "      <td>동국대학교</td>\n",
       "      <td>171,904㎡</td>\n",
       "      <td>37.558288</td>\n",
       "      <td>127.000167</td>\n",
       "    </tr>\n",
       "    <tr>\n",
       "      <th>16</th>\n",
       "      <td>성신여자대학교</td>\n",
       "      <td>156,419㎡</td>\n",
       "      <td>37.591300</td>\n",
       "      <td>127.022107</td>\n",
       "    </tr>\n",
       "    <tr>\n",
       "      <th>17</th>\n",
       "      <td>성균관대학교</td>\n",
       "      <td>154,104㎡</td>\n",
       "      <td>37.588227</td>\n",
       "      <td>126.993606</td>\n",
       "    </tr>\n",
       "    <tr>\n",
       "      <th>18</th>\n",
       "      <td>가톨릭대학교</td>\n",
       "      <td>137,991㎡</td>\n",
       "      <td>37.585765</td>\n",
       "      <td>127.004812</td>\n",
       "    </tr>\n",
       "    <tr>\n",
       "      <th>19</th>\n",
       "      <td>숭실대학교</td>\n",
       "      <td>133,951㎡</td>\n",
       "      <td>37.496354</td>\n",
       "      <td>126.957222</td>\n",
       "    </tr>\n",
       "    <tr>\n",
       "      <th>20</th>\n",
       "      <td>세종대학교</td>\n",
       "      <td>119,694㎡</td>\n",
       "      <td>37.550758</td>\n",
       "      <td>127.074168</td>\n",
       "    </tr>\n",
       "    <tr>\n",
       "      <th>21</th>\n",
       "      <td>홍익대학교</td>\n",
       "      <td>112,653㎡</td>\n",
       "      <td>37.550756</td>\n",
       "      <td>126.925490</td>\n",
       "    </tr>\n",
       "    <tr>\n",
       "      <th>22</th>\n",
       "      <td>강서대학교</td>\n",
       "      <td>92,483㎡</td>\n",
       "      <td>37.548345</td>\n",
       "      <td>126.854797</td>\n",
       "    </tr>\n",
       "    <tr>\n",
       "      <th>23</th>\n",
       "      <td>한국외국어대학교</td>\n",
       "      <td>82,291㎡</td>\n",
       "      <td>37.597445</td>\n",
       "      <td>127.058800</td>\n",
       "    </tr>\n",
       "    <tr>\n",
       "      <th>24</th>\n",
       "      <td>광운대학교</td>\n",
       "      <td>75,836㎡</td>\n",
       "      <td>37.619428</td>\n",
       "      <td>127.059820</td>\n",
       "    </tr>\n",
       "    <tr>\n",
       "      <th>25</th>\n",
       "      <td>숙명여자대학교</td>\n",
       "      <td>68,337㎡</td>\n",
       "      <td>37.546475</td>\n",
       "      <td>126.964692</td>\n",
       "    </tr>\n",
       "    <tr>\n",
       "      <th>26</th>\n",
       "      <td>명지대학교</td>\n",
       "      <td>55,486㎡</td>\n",
       "      <td>37.580222</td>\n",
       "      <td>126.922605</td>\n",
       "    </tr>\n",
       "    <tr>\n",
       "      <th>27</th>\n",
       "      <td>동덕여자대학교</td>\n",
       "      <td>54,323㎡</td>\n",
       "      <td>37.606816</td>\n",
       "      <td>127.042383</td>\n",
       "    </tr>\n",
       "    <tr>\n",
       "      <th>28</th>\n",
       "      <td>서경대학교</td>\n",
       "      <td>53,615㎡</td>\n",
       "      <td>37.614885</td>\n",
       "      <td>127.013351</td>\n",
       "    </tr>\n",
       "    <tr>\n",
       "      <th>29</th>\n",
       "      <td>한성대학교</td>\n",
       "      <td>48,726㎡</td>\n",
       "      <td>37.582848</td>\n",
       "      <td>127.010581</td>\n",
       "    </tr>\n",
       "    <tr>\n",
       "      <th>30</th>\n",
       "      <td>총신대학교</td>\n",
       "      <td>42,349㎡</td>\n",
       "      <td>37.488623</td>\n",
       "      <td>126.966817</td>\n",
       "    </tr>\n",
       "    <tr>\n",
       "      <th>31</th>\n",
       "      <td>성공회대학교</td>\n",
       "      <td>39,431㎡</td>\n",
       "      <td>37.487735</td>\n",
       "      <td>126.825157</td>\n",
       "    </tr>\n",
       "    <tr>\n",
       "      <th>32</th>\n",
       "      <td>경기대학교</td>\n",
       "      <td>19,157㎡</td>\n",
       "      <td>37.300485</td>\n",
       "      <td>127.035833</td>\n",
       "    </tr>\n",
       "    <tr>\n",
       "      <th>33</th>\n",
       "      <td>서울한영대학교</td>\n",
       "      <td>18,899㎡</td>\n",
       "      <td>37.496541</td>\n",
       "      <td>126.851262</td>\n",
       "    </tr>\n",
       "    <tr>\n",
       "      <th>34</th>\n",
       "      <td>서울기독대학교</td>\n",
       "      <td>7,940㎡</td>\n",
       "      <td>37.600916</td>\n",
       "      <td>126.912364</td>\n",
       "    </tr>\n",
       "    <tr>\n",
       "      <th>35</th>\n",
       "      <td>인덕대학교</td>\n",
       "      <td>76,485m²</td>\n",
       "      <td>37.631419</td>\n",
       "      <td>127.054825</td>\n",
       "    </tr>\n",
       "    <tr>\n",
       "      <th>36</th>\n",
       "      <td>한양여자대학교</td>\n",
       "      <td>70,558㎡</td>\n",
       "      <td>37.558667</td>\n",
       "      <td>127.049887</td>\n",
       "    </tr>\n",
       "    <tr>\n",
       "      <th>37</th>\n",
       "      <td>한국폴리텍대학[81]</td>\n",
       "      <td>57,729㎡[82]</td>\n",
       "      <td>37.547398</td>\n",
       "      <td>126.949889</td>\n",
       "    </tr>\n",
       "    <tr>\n",
       "      <th>38</th>\n",
       "      <td>삼육보건대학교</td>\n",
       "      <td>49,710㎡</td>\n",
       "      <td>37.589321</td>\n",
       "      <td>127.064443</td>\n",
       "    </tr>\n",
       "    <tr>\n",
       "      <th>39</th>\n",
       "      <td>서일대학교</td>\n",
       "      <td>38,505㎡</td>\n",
       "      <td>37.586617</td>\n",
       "      <td>127.097744</td>\n",
       "    </tr>\n",
       "    <tr>\n",
       "      <th>40</th>\n",
       "      <td>동양미래대학교</td>\n",
       "      <td>36,881㎡</td>\n",
       "      <td>37.500542</td>\n",
       "      <td>126.867671</td>\n",
       "    </tr>\n",
       "    <tr>\n",
       "      <th>41</th>\n",
       "      <td>명지전문대학</td>\n",
       "      <td>33,500㎡</td>\n",
       "      <td>37.584646</td>\n",
       "      <td>126.925187</td>\n",
       "    </tr>\n",
       "    <tr>\n",
       "      <th>42</th>\n",
       "      <td>숭의여자대학교</td>\n",
       "      <td>25,724㎡</td>\n",
       "      <td>37.556397</td>\n",
       "      <td>126.987497</td>\n",
       "    </tr>\n",
       "    <tr>\n",
       "      <th>43</th>\n",
       "      <td>배화여자대학교</td>\n",
       "      <td>23,389㎡</td>\n",
       "      <td>37.577917</td>\n",
       "      <td>126.967680</td>\n",
       "    </tr>\n",
       "    <tr>\n",
       "      <th>44</th>\n",
       "      <td>서울여자간호대학교</td>\n",
       "      <td>4,534㎡</td>\n",
       "      <td>37.597475</td>\n",
       "      <td>126.947416</td>\n",
       "    </tr>\n",
       "  </tbody>\n",
       "</table>\n",
       "</div>"
      ],
      "text/plain": [
       "            대학명            면적         위도          경도\n",
       "0         서울대학교    4,317,000㎡  37.464827  126.957199\n",
       "1         연세대학교      952,750㎡  37.566394  126.938707\n",
       "2         고려대학교      946,177㎡  37.589388  127.032477\n",
       "3       이화여자대학교      554,927㎡  37.561859  126.946834\n",
       "4     서울과학기술대학교      504,922㎡  37.631668  127.077481\n",
       "5         건국대학교  456,392㎡[62]  37.542327  127.075920\n",
       "6       서울시립대학교      434,004㎡  37.583866  127.058777\n",
       "7         한양대학교      401,729㎡  37.557176  127.045409\n",
       "8         삼육대학교      319,537㎡  37.643582  127.106346\n",
       "9         서강대학교      242,091㎡  37.550944  126.941002\n",
       "10      서울여자대학교      225,020㎡  37.628113  127.090457\n",
       "11        국민대학교      191,736㎡  37.610869  126.997289\n",
       "12      덕성여자대학교      188,260㎡  37.651298  127.016573\n",
       "13        중앙대학교      179,972㎡  37.504556  126.956938\n",
       "14        상명대학교      174,763㎡  37.602638  126.955252\n",
       "15        동국대학교      171,904㎡  37.558288  127.000167\n",
       "16      성신여자대학교      156,419㎡  37.591300  127.022107\n",
       "17       성균관대학교      154,104㎡  37.588227  126.993606\n",
       "18       가톨릭대학교      137,991㎡  37.585765  127.004812\n",
       "19        숭실대학교      133,951㎡  37.496354  126.957222\n",
       "20        세종대학교      119,694㎡  37.550758  127.074168\n",
       "21        홍익대학교      112,653㎡  37.550756  126.925490\n",
       "22        강서대학교       92,483㎡  37.548345  126.854797\n",
       "23     한국외국어대학교       82,291㎡  37.597445  127.058800\n",
       "24        광운대학교       75,836㎡  37.619428  127.059820\n",
       "25      숙명여자대학교       68,337㎡  37.546475  126.964692\n",
       "26        명지대학교       55,486㎡  37.580222  126.922605\n",
       "27      동덕여자대학교       54,323㎡  37.606816  127.042383\n",
       "28        서경대학교       53,615㎡  37.614885  127.013351\n",
       "29        한성대학교       48,726㎡  37.582848  127.010581\n",
       "30        총신대학교       42,349㎡  37.488623  126.966817\n",
       "31       성공회대학교       39,431㎡  37.487735  126.825157\n",
       "32        경기대학교       19,157㎡  37.300485  127.035833\n",
       "33      서울한영대학교       18,899㎡  37.496541  126.851262\n",
       "34      서울기독대학교        7,940㎡  37.600916  126.912364\n",
       "35        인덕대학교      76,485m²  37.631419  127.054825\n",
       "36      한양여자대학교       70,558㎡  37.558667  127.049887\n",
       "37  한국폴리텍대학[81]   57,729㎡[82]  37.547398  126.949889\n",
       "38      삼육보건대학교       49,710㎡  37.589321  127.064443\n",
       "39        서일대학교       38,505㎡  37.586617  127.097744\n",
       "40      동양미래대학교       36,881㎡  37.500542  126.867671\n",
       "41       명지전문대학       33,500㎡  37.584646  126.925187\n",
       "42      숭의여자대학교       25,724㎡  37.556397  126.987497\n",
       "43      배화여자대학교       23,389㎡  37.577917  126.967680\n",
       "44    서울여자간호대학교        4,534㎡  37.597475  126.947416"
      ]
     },
     "execution_count": 33,
     "metadata": {},
     "output_type": "execute_result"
    }
   ],
   "source": [
    "df"
   ]
  },
  {
   "cell_type": "code",
   "execution_count": 36,
   "id": "4d329aad-3cd9-40a6-b40a-515d3cea53ee",
   "metadata": {
    "scrolled": true
   },
   "outputs": [],
   "source": [
    "import pandas as pd\n",
    "\n",
    "new_university = {\n",
    "    '대학명': '경희대학교',\n",
    "    '면적': '407,376㎡',\n",
    "    '위도': 37.59685,\n",
    "    '경도': 127.0518\n",
    "}\n",
    "\n",
    "new_university_df = pd.DataFrame([new_university])\n",
    "\n",
    "df = pd.concat([df, new_university_df], ignore_index=True)\n",
    "\n",
    "df['대학명'] = df['대학명'].str.replace(r'\\[.*?\\]', '', regex=True).str.strip()\n",
    "\n",
    "# 전처리 작업\n",
    "# 1. 숫자와 특수문자 제거\n",
    "df['면적'] = df['면적'].str.replace('[^0-9]', '', regex=True)  # 면적에서 숫자만 남기기\n",
    "df['면적'] = pd.to_numeric(df['면적'], errors='coerce')  # 숫자로 변환\n",
    "\n",
    "# 2. 위도와 경도의 null 값 처리\n",
    "# (null 값은 빈 문자열이나 0으로 변환하거나 제거 가능)\n",
    "df['위도'] = pd.to_numeric(df['위도'], errors='coerce')  # 숫자로 변환, 잘못된 값은 NaN 처리\n",
    "df['경도'] = pd.to_numeric(df['경도'], errors='coerce')\n",
    "\n",
    "# NaN 값 확인 (필요에 따라 채우거나 삭제)\n",
    "df['위도'] = df['위도'].fillna(0)  # 위도 NaN 값을 0으로 채우기\n",
    "df['경도'] = df['경도'].fillna(0)  # 경도 NaN 값을 0으로 채우기\n",
    "\n",
    "\n",
    "# 3. 컬럼 이름 Hive에 맞게 변경\n",
    "df.rename(columns={\n",
    "    '대학교': 'univ_name',\n",
    "    '면적': 'square',\n",
    "    '위도': 'latitude',\n",
    "    '경도': 'longitude'\n",
    "}, inplace=True)\n",
    "\n",
    "df.to_csv('trans_univ_location.csv', index=False, encoding='utf-8-sig')"
   ]
  },
  {
   "cell_type": "code",
   "execution_count": 18,
   "id": "c6dc7487-7453-453a-abc4-3e0bdb66d778",
   "metadata": {},
   "outputs": [
    {
     "name": "stdout",
     "output_type": "stream",
     "text": [
      "<class 'pandas.core.frame.DataFrame'>\n",
      "RangeIndex: 45 entries, 0 to 44\n",
      "Data columns (total 4 columns):\n",
      " #   Column     Non-Null Count  Dtype  \n",
      "---  ------     --------------  -----  \n",
      " 0   대학명        45 non-null     object \n",
      " 1   square     45 non-null     int64  \n",
      " 2   latitude   45 non-null     float64\n",
      " 3   longitude  45 non-null     float64\n",
      "dtypes: float64(2), int64(1), object(1)\n",
      "memory usage: 1.5+ KB\n"
     ]
    }
   ],
   "source": [
    "df.info()"
   ]
  },
  {
   "cell_type": "code",
   "execution_count": null,
   "id": "d78ca9a2-0ac0-4281-81e5-d288c9373466",
   "metadata": {},
   "outputs": [],
   "source": []
  },
  {
   "cell_type": "code",
   "execution_count": null,
   "id": "5ca4aea8-c758-4921-a0ac-55fc00c08cf1",
   "metadata": {},
   "outputs": [],
   "source": []
  },
  {
   "cell_type": "code",
   "execution_count": null,
   "id": "b8331828-5c3d-47b0-b8e7-ada7139d7c5f",
   "metadata": {},
   "outputs": [],
   "source": []
  }
 ],
 "metadata": {
  "kernelspec": {
   "display_name": "Python 3 (ipykernel)",
   "language": "python",
   "name": "python3"
  },
  "language_info": {
   "codemirror_mode": {
    "name": "ipython",
    "version": 3
   },
   "file_extension": ".py",
   "mimetype": "text/x-python",
   "name": "python",
   "nbconvert_exporter": "python",
   "pygments_lexer": "ipython3",
   "version": "3.12.5"
  }
 },
 "nbformat": 4,
 "nbformat_minor": 5
}
